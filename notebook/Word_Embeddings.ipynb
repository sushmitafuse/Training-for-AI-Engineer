{
  "nbformat": 4,
  "nbformat_minor": 0,
  "metadata": {
    "colab": {
      "name": "Word_Embeddings.ipynb",
      "provenance": [],
      "collapsed_sections": [],
      "toc_visible": true
    },
    "kernelspec": {
      "name": "python3",
      "display_name": "Python 3"
    },
    "language_info": {
      "name": "python"
    }
  },
  "cells": [
    {
      "cell_type": "code",
      "metadata": {
        "id": "Z47lbXd55z3n"
      },
      "source": [
        "import pandas as pd\n",
        "import numpy as np"
      ],
      "execution_count": null,
      "outputs": []
    },
    {
      "cell_type": "code",
      "metadata": {
        "id": "MdCDa4C_Xnfh"
      },
      "source": [
        "from keras.models import Sequential, Model\n",
        "from keras.layers import Dense, Dropout, Activation\n",
        "from tensorflow.keras.layers import LSTM,Dense, Dropout, SpatialDropout1D\n",
        "from keras.layers import Flatten, Input\n",
        "from keras.layers import Embedding\n",
        "from keras.layers import concatenate\n",
        "from keras.utils import to_categorical\n",
        "from keras.layers.wrappers import Bidirectional\n",
        "\n",
        "from IPython.display import SVG\n",
        "from keras.utils.vis_utils import model_to_dot"
      ],
      "execution_count": null,
      "outputs": []
    },
    {
      "cell_type": "code",
      "metadata": {
        "id": "cdFkTwrVYah3"
      },
      "source": [
        "data_df = pd.read_csv(\"/content/drive/MyDrive/ISEAR.csv\", names=[\"SN\", \"Class\",\"Sentences\"], index_col = \"SN\")"
      ],
      "execution_count": null,
      "outputs": []
    },
    {
      "cell_type": "code",
      "metadata": {
        "colab": {
          "base_uri": "https://localhost:8080/"
        },
        "id": "cgMCoYn3YkSM",
        "outputId": "e58c40d5-855f-4de8-8e87-fdd7f8d10a98"
      },
      "source": [
        "data_df.Class.value_counts()"
      ],
      "execution_count": null,
      "outputs": [
        {
          "output_type": "execute_result",
          "data": {
            "text/plain": [
              "joy        1082\n",
              "sadness    1074\n",
              "anger      1069\n",
              "fear       1063\n",
              "shame      1059\n",
              "disgust    1059\n",
              "guilt      1040\n",
              "Name: Class, dtype: int64"
            ]
          },
          "metadata": {
            "tags": []
          },
          "execution_count": 23
        }
      ]
    },
    {
      "cell_type": "code",
      "metadata": {
        "id": "sLnTxvaOZGPd"
      },
      "source": [
        "row,col = data_df.shape\n",
        "\n",
        "texts =[]\n",
        "for i in range(0, row):\n",
        "    texts.append(data_df.Sentences[i])"
      ],
      "execution_count": null,
      "outputs": []
    },
    {
      "cell_type": "code",
      "metadata": {
        "id": "yyLi0G7MZZC8"
      },
      "source": [
        "MAX_NB_WORDS=10000\n",
        "MAX_SEQ_LEN = 178"
      ],
      "execution_count": null,
      "outputs": []
    },
    {
      "cell_type": "code",
      "metadata": {
        "colab": {
          "base_uri": "https://localhost:8080/"
        },
        "id": "CNXdq4T8ZtP9",
        "outputId": "5aeeebf3-5d1e-4841-c227-6f6641669b30"
      },
      "source": [
        "from keras.preprocessing.text import Tokenizer\n",
        "from keras.preprocessing.sequence import pad_sequences\n",
        "\n",
        "tokenizer = Tokenizer(nb_words = MAX_NB_WORDS)\n",
        "tokenizer.fit_on_texts(texts)\n",
        "sequences = tokenizer.texts_to_sequences(texts)\n",
        "\n",
        "word_index = tokenizer.word_index\n",
        "print(\"Found %s unique tokens\",len(word_index))\n",
        "\n",
        "data = pad_sequences(sequences, maxlen = MAX_SEQ_LEN)"
      ],
      "execution_count": null,
      "outputs": [
        {
          "output_type": "stream",
          "text": [
            "/usr/local/lib/python3.7/dist-packages/keras_preprocessing/text.py:180: UserWarning: The `nb_words` argument in `Tokenizer` has been renamed `num_words`.\n",
            "  warnings.warn('The `nb_words` argument in `Tokenizer` '\n"
          ],
          "name": "stderr"
        },
        {
          "output_type": "stream",
          "text": [
            "Found %s unique tokens 9065\n"
          ],
          "name": "stdout"
        }
      ]
    },
    {
      "cell_type": "code",
      "metadata": {
        "id": "tR-r8yTgaYPc"
      },
      "source": [
        "from sklearn.preprocessing import LabelEncoder\n",
        "\n",
        "le = LabelEncoder()\n",
        "\n",
        "y = le.fit_transform(data_df.Class)"
      ],
      "execution_count": null,
      "outputs": []
    },
    {
      "cell_type": "code",
      "metadata": {
        "id": "Gxqsj32Aao7u"
      },
      "source": [
        "from keras. utils import to_categorical\n",
        "\n",
        "y = to_categorical(np.asarray(y))"
      ],
      "execution_count": null,
      "outputs": []
    },
    {
      "cell_type": "code",
      "metadata": {
        "id": "PeL4ry_xbBM3"
      },
      "source": [
        "from sklearn.model_selection import train_test_split\n",
        "\n",
        "X_train, X_test, y_train, y_test = train_test_split(data, y, test_size =0.2, random_state = 40)\n",
        "\n",
        "[n_samp, inp_shape] = X_train.shape"
      ],
      "execution_count": null,
      "outputs": []
    },
    {
      "cell_type": "code",
      "metadata": {
        "colab": {
          "base_uri": "https://localhost:8080/"
        },
        "id": "qBhMoOu6bBwv",
        "outputId": "e5968621-db97-4d98-f59f-e2fcb88e5824"
      },
      "source": [
        "print(X_train.shape)\n",
        "print(X_test.shape)\n",
        "print(y_train.shape)\n",
        "print(y_test.shape)\n"
      ],
      "execution_count": null,
      "outputs": [
        {
          "output_type": "stream",
          "text": [
            "(5956, 178)\n",
            "(1490, 178)\n",
            "(5956, 7)\n",
            "(1490, 7)\n"
          ],
          "name": "stdout"
        }
      ]
    },
    {
      "cell_type": "code",
      "metadata": {
        "colab": {
          "base_uri": "https://localhost:8080/"
        },
        "id": "EIIkCOVWbosM",
        "outputId": "5109e44d-764c-40b5-cdfe-4e569aa748ce"
      },
      "source": [
        "!pip install wget\n",
        "!wget -c \"https://s3.amazonaws.com/dl4j-distribution/GoogleNews-vectors-negative300.bin.gz\""
      ],
      "execution_count": null,
      "outputs": [
        {
          "output_type": "stream",
          "text": [
            "Collecting wget\n",
            "  Downloading https://files.pythonhosted.org/packages/47/6a/62e288da7bcda82b935ff0c6cfe542970f04e29c756b0e147251b2fb251f/wget-3.2.zip\n",
            "Building wheels for collected packages: wget\n",
            "  Building wheel for wget (setup.py) ... \u001b[?25l\u001b[?25hdone\n",
            "  Created wheel for wget: filename=wget-3.2-cp37-none-any.whl size=9681 sha256=d78fcaaa2cbac2e7227bf81f87f420be7c9e233fe469fc11c4eb590bb2171994\n",
            "  Stored in directory: /root/.cache/pip/wheels/40/15/30/7d8f7cea2902b4db79e3fea550d7d7b85ecb27ef992b618f3f\n",
            "Successfully built wget\n",
            "Installing collected packages: wget\n",
            "Successfully installed wget-3.2\n",
            "--2021-05-02 15:41:02--  https://s3.amazonaws.com/dl4j-distribution/GoogleNews-vectors-negative300.bin.gz\n",
            "Resolving s3.amazonaws.com (s3.amazonaws.com)... 52.217.65.198\n",
            "Connecting to s3.amazonaws.com (s3.amazonaws.com)|52.217.65.198|:443... connected.\n",
            "HTTP request sent, awaiting response... 200 OK\n",
            "Length: 1647046227 (1.5G) [application/x-gzip]\n",
            "Saving to: ‘GoogleNews-vectors-negative300.bin.gz’\n",
            "\n",
            "GoogleNews-vectors- 100%[===================>]   1.53G  63.8MB/s    in 23s     \n",
            "\n",
            "2021-05-02 15:41:26 (67.4 MB/s) - ‘GoogleNews-vectors-negative300.bin.gz’ saved [1647046227/1647046227]\n",
            "\n"
          ],
          "name": "stdout"
        }
      ]
    },
    {
      "cell_type": "code",
      "metadata": {
        "id": "fhC7dA2-b7oV"
      },
      "source": [
        "import gensim\n",
        "from gensim.models import Word2Vec\n",
        "\n",
        "embeddings_wv = gensim.models.KeyedVectors.load_word2vec_format(\"GoogleNews-vectors-negative300.bin.gz\", binary = True)\n",
        "embeddings_wv.init_sims(replace= True)"
      ],
      "execution_count": null,
      "outputs": []
    },
    {
      "cell_type": "code",
      "metadata": {
        "colab": {
          "base_uri": "https://localhost:8080/"
        },
        "id": "hFShWViXuvLQ",
        "outputId": "254a4e76-afd6-4574-8aee-ff8e5fa9bfd0"
      },
      "source": [
        "vocab = tokenizer.sequences_to_texts(sequences)\n",
        "vocab[:5]\n"
      ],
      "execution_count": null,
      "outputs": [
        {
          "output_type": "execute_result",
          "data": {
            "text/plain": [
              "['on days when i feel close to my partner and other friends when i feel at peace with myself and also experience a close contact with people whom i regard greatly',\n",
              " 'every time i imagine that someone i love or i could contact a serious illness even death',\n",
              " 'when i had been obviously unjustly treated and had no possibility of elucidating this',\n",
              " 'when i think about the short time that we live and relate it to the periods of my life when i think that i did not use this short time',\n",
              " 'at a gathering i found myself involuntarily sitting next to two people who expressed opinions that i considered very low and discriminating']"
            ]
          },
          "metadata": {
            "tags": []
          },
          "execution_count": 44
        }
      ]
    },
    {
      "cell_type": "code",
      "metadata": {
        "colab": {
          "base_uri": "https://localhost:8080/"
        },
        "id": "dGcX9drsciQC",
        "outputId": "c404d138-f74a-4e5a-9829-39107b0a43d8"
      },
      "source": [
        "vocab = tokenizer.sequences_to_texts(sequences)\n",
        "\n",
        "vocab_size = len(tokenizer.word_index)+1\n",
        "print(vocab_size)\n",
        "\n",
        "embedding_matrix = np.zeros((vocab_size, 178))\n",
        "\n",
        "for word, i in tokenizer.word_index.items():\n",
        "    try:\n",
        "        embedding_vector = embeddings_wv[word]\n",
        "        if embedding_vector is not None:\n",
        "            embedding_matrix[i] = embedding_vector\n",
        "    except:\n",
        "        pass"
      ],
      "execution_count": null,
      "outputs": [
        {
          "output_type": "stream",
          "text": [
            "9066\n"
          ],
          "name": "stdout"
        }
      ]
    },
    {
      "cell_type": "code",
      "metadata": {
        "colab": {
          "base_uri": "https://localhost:8080/",
          "height": 1000
        },
        "id": "e_4JW_7LdXAS",
        "outputId": "2e3b10d4-a9c0-4039-a2ff-e3ec571e73b3"
      },
      "source": [
        "model = Sequential()\n",
        "\n",
        "Embed_Layer = Embedding(vocab_size, 178, weights= [embedding_matrix], input_length=(MAX_SEQ_LEN,), trainable = True)\n",
        "\n",
        "input_layer = Input(shape=(MAX_SEQ_LEN,), dtype = 'int32', name='input_layer')\n",
        "embedding_layer = Embed_Layer(input_layer)\n",
        "Flatten_layer = Flatten()\n",
        "flatten_layer = Flatten_layer(embedding_layer)\n",
        "output_size = 7\n",
        "\n",
        "dense1 = Dense(100, activation='relu')(flatten_layer)\n",
        "dense2 = Dense(32, activation='relu')(dense1)\n",
        "predict_layer = Dense(7, activation='softmax')(dense2)\n",
        "\n",
        "model = Model(inputs = [input_layer], outputs = [predict_layer])\n",
        "model.compile(optimizer='adam', loss='categorical_crossentropy', metrics=['acc'])\n",
        "\n",
        "print(model.summary())\n",
        "SVG(model_to_dot(model).create(prog='dot', format='svg'))"
      ],
      "execution_count": null,
      "outputs": [
        {
          "output_type": "stream",
          "text": [
            "Model: \"model_1\"\n",
            "_________________________________________________________________\n",
            "Layer (type)                 Output Shape              Param #   \n",
            "=================================================================\n",
            "input_layer (InputLayer)     [(None, 178)]             0         \n",
            "_________________________________________________________________\n",
            "embedding_4 (Embedding)      (None, 178, 178)          1613748   \n",
            "_________________________________________________________________\n",
            "flatten_1 (Flatten)          (None, 31684)             0         \n",
            "_________________________________________________________________\n",
            "dense_4 (Dense)              (None, 100)               3168500   \n",
            "_________________________________________________________________\n",
            "dense_5 (Dense)              (None, 32)                3232      \n",
            "_________________________________________________________________\n",
            "dense_6 (Dense)              (None, 7)                 231       \n",
            "=================================================================\n",
            "Total params: 4,785,711\n",
            "Trainable params: 4,785,711\n",
            "Non-trainable params: 0\n",
            "_________________________________________________________________\n",
            "None\n"
          ],
          "name": "stdout"
        },
        {
          "output_type": "execute_result",
          "data": {
            "text/plain": [
              "<IPython.core.display.SVG object>"
            ],
            "image/svg+xml": "<svg height=\"547pt\" viewBox=\"0.00 0.00 179.00 410.00\" width=\"239pt\" xmlns=\"http://www.w3.org/2000/svg\" xmlns:xlink=\"http://www.w3.org/1999/xlink\">\n<g class=\"graph\" id=\"graph0\" transform=\"scale(1.3333 1.3333) rotate(0) translate(4 406)\">\n<title>G</title>\n<polygon fill=\"#ffffff\" points=\"-4,4 -4,-406 175,-406 175,4 -4,4\" stroke=\"transparent\"/>\n<!-- 140285002438352 -->\n<g class=\"node\" id=\"node1\">\n<title>140285002438352</title>\n<polygon fill=\"none\" points=\"9,-365.5 9,-401.5 162,-401.5 162,-365.5 9,-365.5\" stroke=\"#000000\"/>\n<text fill=\"#000000\" font-family=\"Times,serif\" font-size=\"14.00\" text-anchor=\"middle\" x=\"85.5\" y=\"-379.8\">input_layer: InputLayer</text>\n</g>\n<!-- 140283029815632 -->\n<g class=\"node\" id=\"node2\">\n<title>140283029815632</title>\n<polygon fill=\"none\" points=\"0,-292.5 0,-328.5 171,-328.5 171,-292.5 0,-292.5\" stroke=\"#000000\"/>\n<text fill=\"#000000\" font-family=\"Times,serif\" font-size=\"14.00\" text-anchor=\"middle\" x=\"85.5\" y=\"-306.8\">embedding_4: Embedding</text>\n</g>\n<!-- 140285002438352&#45;&gt;140283029815632 -->\n<g class=\"edge\" id=\"edge1\">\n<title>140285002438352-&gt;140283029815632</title>\n<path d=\"M85.5,-365.4551C85.5,-357.3828 85.5,-347.6764 85.5,-338.6817\" fill=\"none\" stroke=\"#000000\"/>\n<polygon fill=\"#000000\" points=\"89.0001,-338.5903 85.5,-328.5904 82.0001,-338.5904 89.0001,-338.5903\" stroke=\"#000000\"/>\n</g>\n<!-- 140281998458704 -->\n<g class=\"node\" id=\"node3\">\n<title>140281998458704</title>\n<polygon fill=\"none\" points=\"29,-219.5 29,-255.5 142,-255.5 142,-219.5 29,-219.5\" stroke=\"#000000\"/>\n<text fill=\"#000000\" font-family=\"Times,serif\" font-size=\"14.00\" text-anchor=\"middle\" x=\"85.5\" y=\"-233.8\">flatten_1: Flatten</text>\n</g>\n<!-- 140283029815632&#45;&gt;140281998458704 -->\n<g class=\"edge\" id=\"edge2\">\n<title>140283029815632-&gt;140281998458704</title>\n<path d=\"M85.5,-292.4551C85.5,-284.3828 85.5,-274.6764 85.5,-265.6817\" fill=\"none\" stroke=\"#000000\"/>\n<polygon fill=\"#000000\" points=\"89.0001,-265.5903 85.5,-255.5904 82.0001,-265.5904 89.0001,-265.5903\" stroke=\"#000000\"/>\n</g>\n<!-- 140281997340496 -->\n<g class=\"node\" id=\"node4\">\n<title>140281997340496</title>\n<polygon fill=\"none\" points=\"32,-146.5 32,-182.5 139,-182.5 139,-146.5 32,-146.5\" stroke=\"#000000\"/>\n<text fill=\"#000000\" font-family=\"Times,serif\" font-size=\"14.00\" text-anchor=\"middle\" x=\"85.5\" y=\"-160.8\">dense_4: Dense</text>\n</g>\n<!-- 140281998458704&#45;&gt;140281997340496 -->\n<g class=\"edge\" id=\"edge3\">\n<title>140281998458704-&gt;140281997340496</title>\n<path d=\"M85.5,-219.4551C85.5,-211.3828 85.5,-201.6764 85.5,-192.6817\" fill=\"none\" stroke=\"#000000\"/>\n<polygon fill=\"#000000\" points=\"89.0001,-192.5903 85.5,-182.5904 82.0001,-192.5904 89.0001,-192.5903\" stroke=\"#000000\"/>\n</g>\n<!-- 140281997335120 -->\n<g class=\"node\" id=\"node5\">\n<title>140281997335120</title>\n<polygon fill=\"none\" points=\"32,-73.5 32,-109.5 139,-109.5 139,-73.5 32,-73.5\" stroke=\"#000000\"/>\n<text fill=\"#000000\" font-family=\"Times,serif\" font-size=\"14.00\" text-anchor=\"middle\" x=\"85.5\" y=\"-87.8\">dense_5: Dense</text>\n</g>\n<!-- 140281997340496&#45;&gt;140281997335120 -->\n<g class=\"edge\" id=\"edge4\">\n<title>140281997340496-&gt;140281997335120</title>\n<path d=\"M85.5,-146.4551C85.5,-138.3828 85.5,-128.6764 85.5,-119.6817\" fill=\"none\" stroke=\"#000000\"/>\n<polygon fill=\"#000000\" points=\"89.0001,-119.5903 85.5,-109.5904 82.0001,-119.5904 89.0001,-119.5903\" stroke=\"#000000\"/>\n</g>\n<!-- 140281997351632 -->\n<g class=\"node\" id=\"node6\">\n<title>140281997351632</title>\n<polygon fill=\"none\" points=\"32,-.5 32,-36.5 139,-36.5 139,-.5 32,-.5\" stroke=\"#000000\"/>\n<text fill=\"#000000\" font-family=\"Times,serif\" font-size=\"14.00\" text-anchor=\"middle\" x=\"85.5\" y=\"-14.8\">dense_6: Dense</text>\n</g>\n<!-- 140281997335120&#45;&gt;140281997351632 -->\n<g class=\"edge\" id=\"edge5\">\n<title>140281997335120-&gt;140281997351632</title>\n<path d=\"M85.5,-73.4551C85.5,-65.3828 85.5,-55.6764 85.5,-46.6817\" fill=\"none\" stroke=\"#000000\"/>\n<polygon fill=\"#000000\" points=\"89.0001,-46.5903 85.5,-36.5904 82.0001,-46.5904 89.0001,-46.5903\" stroke=\"#000000\"/>\n</g>\n</g>\n</svg>"
          },
          "metadata": {
            "tags": []
          },
          "execution_count": 46
        }
      ]
    },
    {
      "cell_type": "code",
      "metadata": {
        "colab": {
          "base_uri": "https://localhost:8080/"
        },
        "id": "c6X5pNKidcj8",
        "outputId": "7c65b4b2-d4e2-4c37-aca2-66a0cf7afa74"
      },
      "source": [
        "history = model.fit(X_train, y_train, epochs = 30, batch_size=32, verbose=True, validation_data=(X_test, y_test))"
      ],
      "execution_count": null,
      "outputs": [
        {
          "output_type": "stream",
          "text": [
            "Epoch 1/30\n",
            "187/187 [==============================] - 11s 58ms/step - loss: 1.9458 - acc: 0.1517 - val_loss: 1.9464 - val_acc: 0.1295\n",
            "Epoch 2/30\n",
            "187/187 [==============================] - 10s 55ms/step - loss: 1.9459 - acc: 0.1487 - val_loss: 1.9466 - val_acc: 0.1295\n",
            "Epoch 3/30\n",
            "187/187 [==============================] - 10s 56ms/step - loss: 1.9455 - acc: 0.1515 - val_loss: 1.9469 - val_acc: 0.1295\n",
            "Epoch 4/30\n",
            "187/187 [==============================] - 10s 56ms/step - loss: 1.9460 - acc: 0.1407 - val_loss: 1.9471 - val_acc: 0.1295\n",
            "Epoch 5/30\n",
            "187/187 [==============================] - 10s 55ms/step - loss: 1.9461 - acc: 0.1370 - val_loss: 1.9472 - val_acc: 0.1295\n",
            "Epoch 6/30\n",
            "187/187 [==============================] - 11s 56ms/step - loss: 1.9460 - acc: 0.1416 - val_loss: 1.9473 - val_acc: 0.1295\n",
            "Epoch 7/30\n",
            "187/187 [==============================] - 11s 58ms/step - loss: 1.9452 - acc: 0.1566 - val_loss: 1.9472 - val_acc: 0.1295\n",
            "Epoch 8/30\n",
            "187/187 [==============================] - 11s 57ms/step - loss: 1.9456 - acc: 0.1537 - val_loss: 1.9473 - val_acc: 0.1295\n",
            "Epoch 9/30\n",
            "187/187 [==============================] - 11s 57ms/step - loss: 1.9457 - acc: 0.1516 - val_loss: 1.9472 - val_acc: 0.1295\n",
            "Epoch 10/30\n",
            "187/187 [==============================] - 10s 56ms/step - loss: 1.9456 - acc: 0.1521 - val_loss: 1.9472 - val_acc: 0.1295\n",
            "Epoch 11/30\n",
            "187/187 [==============================] - 10s 56ms/step - loss: 1.9461 - acc: 0.1325 - val_loss: 1.9472 - val_acc: 0.1295\n",
            "Epoch 12/30\n",
            "187/187 [==============================] - 10s 56ms/step - loss: 1.9460 - acc: 0.1412 - val_loss: 1.9473 - val_acc: 0.1295\n",
            "Epoch 13/30\n",
            "187/187 [==============================] - 11s 56ms/step - loss: 1.9458 - acc: 0.1489 - val_loss: 1.9474 - val_acc: 0.1295\n",
            "Epoch 14/30\n",
            "187/187 [==============================] - 10s 56ms/step - loss: 1.9458 - acc: 0.1411 - val_loss: 1.9473 - val_acc: 0.1295\n",
            "Epoch 15/30\n",
            "187/187 [==============================] - 10s 55ms/step - loss: 1.9456 - acc: 0.1513 - val_loss: 1.9473 - val_acc: 0.1295\n",
            "Epoch 16/30\n",
            "187/187 [==============================] - 10s 56ms/step - loss: 1.9456 - acc: 0.1464 - val_loss: 1.9473 - val_acc: 0.1295\n",
            "Epoch 17/30\n",
            "187/187 [==============================] - 10s 56ms/step - loss: 1.9458 - acc: 0.1483 - val_loss: 1.9472 - val_acc: 0.1295\n",
            "Epoch 18/30\n",
            "187/187 [==============================] - 10s 56ms/step - loss: 1.9454 - acc: 0.1529 - val_loss: 1.9472 - val_acc: 0.1295\n",
            "Epoch 19/30\n",
            "187/187 [==============================] - 10s 56ms/step - loss: 1.9457 - acc: 0.1512 - val_loss: 1.9472 - val_acc: 0.1295\n",
            "Epoch 20/30\n",
            "187/187 [==============================] - 10s 56ms/step - loss: 1.9460 - acc: 0.1455 - val_loss: 1.9472 - val_acc: 0.1369\n",
            "Epoch 21/30\n",
            "187/187 [==============================] - 10s 55ms/step - loss: 1.9457 - acc: 0.1449 - val_loss: 1.9472 - val_acc: 0.1295\n",
            "Epoch 22/30\n",
            "187/187 [==============================] - 10s 56ms/step - loss: 1.9451 - acc: 0.1515 - val_loss: 1.9473 - val_acc: 0.1369\n",
            "Epoch 23/30\n",
            "187/187 [==============================] - 10s 55ms/step - loss: 1.9462 - acc: 0.1494 - val_loss: 1.9473 - val_acc: 0.1295\n",
            "Epoch 24/30\n",
            "187/187 [==============================] - 10s 56ms/step - loss: 1.9454 - acc: 0.1492 - val_loss: 1.9473 - val_acc: 0.1369\n",
            "Epoch 25/30\n",
            "187/187 [==============================] - 10s 56ms/step - loss: 1.9455 - acc: 0.1408 - val_loss: 1.9471 - val_acc: 0.1369\n",
            "Epoch 26/30\n",
            "187/187 [==============================] - 11s 57ms/step - loss: 1.9460 - acc: 0.1445 - val_loss: 1.9472 - val_acc: 0.1369\n",
            "Epoch 27/30\n",
            "187/187 [==============================] - 10s 56ms/step - loss: 1.9453 - acc: 0.1520 - val_loss: 1.9474 - val_acc: 0.1369\n",
            "Epoch 28/30\n",
            "187/187 [==============================] - 11s 56ms/step - loss: 1.9458 - acc: 0.1396 - val_loss: 1.9472 - val_acc: 0.1369\n",
            "Epoch 29/30\n",
            "187/187 [==============================] - 10s 55ms/step - loss: 1.9458 - acc: 0.1436 - val_loss: 1.9473 - val_acc: 0.1295\n",
            "Epoch 30/30\n",
            "187/187 [==============================] - 10s 55ms/step - loss: 1.9449 - acc: 0.1444 - val_loss: 1.9474 - val_acc: 0.1369\n"
          ],
          "name": "stdout"
        }
      ]
    },
    {
      "cell_type": "code",
      "metadata": {
        "colab": {
          "base_uri": "https://localhost:8080/",
          "height": 545
        },
        "id": "YBtnb4nkgdGC",
        "outputId": "78f017c8-345b-4f9e-f231-9c80fe01041e"
      },
      "source": [
        "plt.title(\"Model Accuracy During Training\")\n",
        "plt.plot(history.history['acc'], label='Accuracy')\n",
        "plt.plot(history.history['val_acc'], label='Val_Accuracy')\n",
        "plt.legend()\n",
        "plt.show()\n",
        "\n",
        "plt.title(\"Model Loss During Training\")\n",
        "plt.plot(history.history['loss'], label='Loss')\n",
        "plt.plot(history.history['val_loss'], label='Val_Loss')\n",
        "plt.legend()\n",
        "plt.show()"
      ],
      "execution_count": null,
      "outputs": [
        {
          "output_type": "display_data",
          "data": {
            "image/png": "[encoded data removed]",
            "text/plain": [
              "<Figure size 432x288 with 1 Axes>"
            ]
          },
          "metadata": {
            "tags": [],
            "needs_background": "light"
          }
        },
        {
          "output_type": "display_data",
          "data": {
            "image/png": "[encoded data removed]",
            "text/plain": [
              "<Figure size 432x288 with 1 Axes>"
            ]
          },
          "metadata": {
            "tags": [],
            "needs_background": "light"
          }
        }
      ]
    },
    {
      "cell_type": "markdown",
      "metadata": {
        "id": "y227MZPRgqDF"
      },
      "source": [
        "Glove Embedding"
      ]
    },
    {
      "cell_type": "code",
      "metadata": {
        "colab": {
          "base_uri": "https://localhost:8080/"
        },
        "id": "yB4wEeKYhBVU",
        "outputId": "8e2db3d7-11ff-4a66-ed31-7d6e2690823f"
      },
      "source": [
        "!wget http://nlp.stanford.edu/data/glove.6B.zip"
      ],
      "execution_count": null,
      "outputs": [
        {
          "output_type": "stream",
          "text": [
            "--2021-05-02 15:06:49--  http://nlp.stanford.edu/data/glove.6B.zip\n",
            "Resolving nlp.stanford.edu (nlp.stanford.edu)... 171.64.67.140\n",
            "Connecting to nlp.stanford.edu (nlp.stanford.edu)|171.64.67.140|:80... connected.\n",
            "HTTP request sent, awaiting response... 302 Found\n",
            "Location: https://nlp.stanford.edu/data/glove.6B.zip [following]\n",
            "--2021-05-02 15:06:49--  https://nlp.stanford.edu/data/glove.6B.zip\n",
            "Connecting to nlp.stanford.edu (nlp.stanford.edu)|171.64.67.140|:443... connected.\n",
            "HTTP request sent, awaiting response... 301 Moved Permanently\n",
            "Location: http://downloads.cs.stanford.edu/nlp/data/glove.6B.zip [following]\n",
            "--2021-05-02 15:06:50--  http://downloads.cs.stanford.edu/nlp/data/glove.6B.zip\n",
            "Resolving downloads.cs.stanford.edu (downloads.cs.stanford.edu)... 171.64.64.22\n",
            "Connecting to downloads.cs.stanford.edu (downloads.cs.stanford.edu)|171.64.64.22|:80... connected.\n",
            "HTTP request sent, awaiting response... 200 OK\n",
            "Length: 862182613 (822M) [application/zip]\n",
            "Saving to: ‘glove.6B.zip.1’\n",
            "\n",
            "glove.6B.zip.1      100%[===================>] 822.24M  5.02MB/s    in 2m 40s  \n",
            "\n",
            "2021-05-02 15:09:31 (5.12 MB/s) - ‘glove.6B.zip.1’ saved [862182613/862182613]\n",
            "\n"
          ],
          "name": "stdout"
        }
      ]
    },
    {
      "cell_type": "code",
      "metadata": {
        "colab": {
          "base_uri": "https://localhost:8080/"
        },
        "id": "idik4zGZhLuN",
        "outputId": "e3ed7267-2134-4207-b825-08daacb27166"
      },
      "source": [
        "!unzip glove*.zip"
      ],
      "execution_count": null,
      "outputs": [
        {
          "output_type": "stream",
          "text": [
            "Archive:  glove.6B.zip\n",
            "replace glove.6B.50d.txt? [y]es, [n]o, [A]ll, [N]one, [r]ename: n\n",
            "replace glove.6B.100d.txt? [y]es, [n]o, [A]ll, [N]one, [r]ename: n\n",
            "replace glove.6B.200d.txt? [y]es, [n]o, [A]ll, [N]one, [r]ename: n\n",
            "replace glove.6B.300d.txt? [y]es, [n]o, [A]ll, [N]one, [r]ename: n\n"
          ],
          "name": "stdout"
        }
      ]
    },
    {
      "cell_type": "code",
      "metadata": {
        "colab": {
          "base_uri": "https://localhost:8080/"
        },
        "id": "KqtxUh02fvtc",
        "outputId": "b4591bbd-6eac-476a-a684-6f6a54c4db2d"
      },
      "source": [
        "embeddings_index = dict()\n",
        "f = open('/content/glove.6B.100d.txt')\n",
        "for line in f:\n",
        "    values = line.split()\n",
        "    word = values[0]\n",
        "    coefs = np.asarray(values[1:], dtype = 'float32')\n",
        "    embeddings_index[word] = coefs\n",
        "f.close()\n",
        "\n",
        "print('Loaded %s word vectors.', len(embeddings_index))\n",
        "vocab = tokenizer.sequences_to_texts(sequences)\n",
        "vocab_size = len(tokenizer.word_index)+1\n",
        "\n",
        "print(vocab_size)\n",
        "\n",
        "embedding_matrix = np.zeros((vocab_size,100))\n",
        "for word, i in tokenizer.word_index.items():\n",
        "    embedding_vector = embeddings_index.get(word)\n",
        "    if embedding_vector is not None:\n",
        "        embedding_matrix[i] = embedding_vector"
      ],
      "execution_count": null,
      "outputs": [
        {
          "output_type": "stream",
          "text": [
            "Loaded %s word vectors. 400000\n",
            "9066\n"
          ],
          "name": "stdout"
        }
      ]
    },
    {
      "cell_type": "code",
      "metadata": {
        "colab": {
          "base_uri": "https://localhost:8080/",
          "height": 1000
        },
        "id": "QdVrY4VNionu",
        "outputId": "868c3a96-bd04-4560-9bd7-bde8998d38bf"
      },
      "source": [
        "Glove_model = Sequential()\n",
        "\n",
        "Embed_Layer = Embedding(vocab_size, 100, weights = [embedding_matrix], input_length=(MAX_SEQ_LEN,), trainable = True)\n",
        "\n",
        "input_layer = Input(shape=(MAX_SEQ_LEN,), dtype = 'int32', name='input_layer')\n",
        "embedding_layer = Embed_Layer(input_layer)\n",
        "Flatten_layer = Flatten()\n",
        "flatten_layer = Flatten_layer(embedding_layer)\n",
        "output_size = 7\n",
        "\n",
        "dense1 = Dense(100, activation='relu')(flatten_layer)\n",
        "dropout_layer1 = Dropout(0.3)(dense1)\n",
        "dense2 = Dense(32, activation='relu')(dropout_layer1)\n",
        "predict_layer = Dense(7, activation='softmax')(dense2)\n",
        "\n",
        "Glove_model = Model(inputs = [input_layer], outputs = [predict_layer])\n",
        "Glove_model.compile(optimizer='adam', loss='categorical_crossentropy', metrics=['acc'])\n",
        "\n",
        "print(Glove_model.summary())\n",
        "SVG(model_to_dot(Glove_model).create(prog='dot', format='svg'))"
      ],
      "execution_count": null,
      "outputs": [
        {
          "output_type": "stream",
          "text": [
            "Model: \"model\"\n",
            "_________________________________________________________________\n",
            "Layer (type)                 Output Shape              Param #   \n",
            "=================================================================\n",
            "input_layer (InputLayer)     [(None, 178)]             0         \n",
            "_________________________________________________________________\n",
            "embedding (Embedding)        (None, 178, 100)          906600    \n",
            "_________________________________________________________________\n",
            "flatten (Flatten)            (None, 17800)             0         \n",
            "_________________________________________________________________\n",
            "dense (Dense)                (None, 100)               1780100   \n",
            "_________________________________________________________________\n",
            "dropout (Dropout)            (None, 100)               0         \n",
            "_________________________________________________________________\n",
            "dense_1 (Dense)              (None, 32)                3232      \n",
            "_________________________________________________________________\n",
            "dense_2 (Dense)              (None, 7)                 231       \n",
            "=================================================================\n",
            "Total params: 2,690,163\n",
            "Trainable params: 2,690,163\n",
            "Non-trainable params: 0\n",
            "_________________________________________________________________\n",
            "None\n"
          ],
          "name": "stdout"
        },
        {
          "output_type": "execute_result",
          "data": {
            "text/plain": [
              "<IPython.core.display.SVG object>"
            ],
            "image/svg+xml": "<svg height=\"644pt\" viewBox=\"0.00 0.00 164.00 483.00\" width=\"219pt\" xmlns=\"http://www.w3.org/2000/svg\" xmlns:xlink=\"http://www.w3.org/1999/xlink\">\n<g class=\"graph\" id=\"graph0\" transform=\"scale(1.3333 1.3333) rotate(0) translate(4 479)\">\n<title>G</title>\n<polygon fill=\"#ffffff\" points=\"-4,4 -4,-479 160,-479 160,4 -4,4\" stroke=\"transparent\"/>\n<!-- 140283174764368 -->\n<g class=\"node\" id=\"node1\">\n<title>140283174764368</title>\n<polygon fill=\"none\" points=\"1.5,-438.5 1.5,-474.5 154.5,-474.5 154.5,-438.5 1.5,-438.5\" stroke=\"#000000\"/>\n<text fill=\"#000000\" font-family=\"Times,serif\" font-size=\"14.00\" text-anchor=\"middle\" x=\"78\" y=\"-452.8\">input_layer: InputLayer</text>\n</g>\n<!-- 140283174764112 -->\n<g class=\"node\" id=\"node2\">\n<title>140283174764112</title>\n<polygon fill=\"none\" points=\"0,-365.5 0,-401.5 156,-401.5 156,-365.5 0,-365.5\" stroke=\"#000000\"/>\n<text fill=\"#000000\" font-family=\"Times,serif\" font-size=\"14.00\" text-anchor=\"middle\" x=\"78\" y=\"-379.8\">embedding: Embedding</text>\n</g>\n<!-- 140283174764368&#45;&gt;140283174764112 -->\n<g class=\"edge\" id=\"edge1\">\n<title>140283174764368-&gt;140283174764112</title>\n<path d=\"M78,-438.4551C78,-430.3828 78,-420.6764 78,-411.6817\" fill=\"none\" stroke=\"#000000\"/>\n<polygon fill=\"#000000\" points=\"81.5001,-411.5903 78,-401.5904 74.5001,-411.5904 81.5001,-411.5903\" stroke=\"#000000\"/>\n</g>\n<!-- 140283116612368 -->\n<g class=\"node\" id=\"node3\">\n<title>140283116612368</title>\n<polygon fill=\"none\" points=\"29,-292.5 29,-328.5 127,-328.5 127,-292.5 29,-292.5\" stroke=\"#000000\"/>\n<text fill=\"#000000\" font-family=\"Times,serif\" font-size=\"14.00\" text-anchor=\"middle\" x=\"78\" y=\"-306.8\">flatten: Flatten</text>\n</g>\n<!-- 140283174764112&#45;&gt;140283116612368 -->\n<g class=\"edge\" id=\"edge2\">\n<title>140283174764112-&gt;140283116612368</title>\n<path d=\"M78,-365.4551C78,-357.3828 78,-347.6764 78,-338.6817\" fill=\"none\" stroke=\"#000000\"/>\n<polygon fill=\"#000000\" points=\"81.5001,-338.5903 78,-328.5904 74.5001,-338.5904 81.5001,-338.5903\" stroke=\"#000000\"/>\n</g>\n<!-- 140283116610384 -->\n<g class=\"node\" id=\"node4\">\n<title>140283116610384</title>\n<polygon fill=\"none\" points=\"32,-219.5 32,-255.5 124,-255.5 124,-219.5 32,-219.5\" stroke=\"#000000\"/>\n<text fill=\"#000000\" font-family=\"Times,serif\" font-size=\"14.00\" text-anchor=\"middle\" x=\"78\" y=\"-233.8\">dense: Dense</text>\n</g>\n<!-- 140283116612368&#45;&gt;140283116610384 -->\n<g class=\"edge\" id=\"edge3\">\n<title>140283116612368-&gt;140283116610384</title>\n<path d=\"M78,-292.4551C78,-284.3828 78,-274.6764 78,-265.6817\" fill=\"none\" stroke=\"#000000\"/>\n<polygon fill=\"#000000\" points=\"81.5001,-265.5903 78,-255.5904 74.5001,-265.5904 81.5001,-265.5903\" stroke=\"#000000\"/>\n</g>\n<!-- 140283116612240 -->\n<g class=\"node\" id=\"node5\">\n<title>140283116612240</title>\n<polygon fill=\"none\" points=\"18.5,-146.5 18.5,-182.5 137.5,-182.5 137.5,-146.5 18.5,-146.5\" stroke=\"#000000\"/>\n<text fill=\"#000000\" font-family=\"Times,serif\" font-size=\"14.00\" text-anchor=\"middle\" x=\"78\" y=\"-160.8\">dropout: Dropout</text>\n</g>\n<!-- 140283116610384&#45;&gt;140283116612240 -->\n<g class=\"edge\" id=\"edge4\">\n<title>140283116610384-&gt;140283116612240</title>\n<path d=\"M78,-219.4551C78,-211.3828 78,-201.6764 78,-192.6817\" fill=\"none\" stroke=\"#000000\"/>\n<polygon fill=\"#000000\" points=\"81.5001,-192.5903 78,-182.5904 74.5001,-192.5904 81.5001,-192.5903\" stroke=\"#000000\"/>\n</g>\n<!-- 140283116610512 -->\n<g class=\"node\" id=\"node6\">\n<title>140283116610512</title>\n<polygon fill=\"none\" points=\"24.5,-73.5 24.5,-109.5 131.5,-109.5 131.5,-73.5 24.5,-73.5\" stroke=\"#000000\"/>\n<text fill=\"#000000\" font-family=\"Times,serif\" font-size=\"14.00\" text-anchor=\"middle\" x=\"78\" y=\"-87.8\">dense_1: Dense</text>\n</g>\n<!-- 140283116612240&#45;&gt;140283116610512 -->\n<g class=\"edge\" id=\"edge5\">\n<title>140283116612240-&gt;140283116610512</title>\n<path d=\"M78,-146.4551C78,-138.3828 78,-128.6764 78,-119.6817\" fill=\"none\" stroke=\"#000000\"/>\n<polygon fill=\"#000000\" points=\"81.5001,-119.5903 78,-109.5904 74.5001,-119.5904 81.5001,-119.5903\" stroke=\"#000000\"/>\n</g>\n<!-- 140283116460304 -->\n<g class=\"node\" id=\"node7\">\n<title>140283116460304</title>\n<polygon fill=\"none\" points=\"24.5,-.5 24.5,-36.5 131.5,-36.5 131.5,-.5 24.5,-.5\" stroke=\"#000000\"/>\n<text fill=\"#000000\" font-family=\"Times,serif\" font-size=\"14.00\" text-anchor=\"middle\" x=\"78\" y=\"-14.8\">dense_2: Dense</text>\n</g>\n<!-- 140283116610512&#45;&gt;140283116460304 -->\n<g class=\"edge\" id=\"edge6\">\n<title>140283116610512-&gt;140283116460304</title>\n<path d=\"M78,-73.4551C78,-65.3828 78,-55.6764 78,-46.6817\" fill=\"none\" stroke=\"#000000\"/>\n<polygon fill=\"#000000\" points=\"81.5001,-46.5903 78,-36.5904 74.5001,-46.5904 81.5001,-46.5903\" stroke=\"#000000\"/>\n</g>\n</g>\n</svg>"
          },
          "metadata": {
            "tags": []
          },
          "execution_count": 15
        }
      ]
    },
    {
      "cell_type": "code",
      "metadata": {
        "colab": {
          "base_uri": "https://localhost:8080/"
        },
        "id": "zG4hLgN-jOjq",
        "outputId": "1c31bf9e-c80d-49e4-e732-92e8ceaf89b7"
      },
      "source": [
        "history = Glove_model.fit(X_train, y_train, epochs = 10, batch_size=32, verbose=True, validation_data=(X_test, y_test))"
      ],
      "execution_count": null,
      "outputs": [
        {
          "output_type": "stream",
          "text": [
            "Epoch 1/10\n",
            "187/187 [==============================] - 7s 34ms/step - loss: 1.9640 - acc: 0.1812 - val_loss: 1.8710 - val_acc: 0.2403\n",
            "Epoch 2/10\n",
            "187/187 [==============================] - 6s 31ms/step - loss: 1.7875 - acc: 0.2998 - val_loss: 1.6621 - val_acc: 0.3530\n",
            "Epoch 3/10\n",
            "187/187 [==============================] - 6s 31ms/step - loss: 1.4869 - acc: 0.4424 - val_loss: 1.6030 - val_acc: 0.4000\n",
            "Epoch 4/10\n",
            "187/187 [==============================] - 6s 31ms/step - loss: 1.2144 - acc: 0.5499 - val_loss: 1.5307 - val_acc: 0.4282\n",
            "Epoch 5/10\n",
            "187/187 [==============================] - 6s 31ms/step - loss: 0.9249 - acc: 0.6651 - val_loss: 1.5970 - val_acc: 0.4430\n",
            "Epoch 6/10\n",
            "187/187 [==============================] - 6s 31ms/step - loss: 0.7153 - acc: 0.7380 - val_loss: 1.6521 - val_acc: 0.4638\n",
            "Epoch 7/10\n",
            "187/187 [==============================] - 6s 31ms/step - loss: 0.5183 - acc: 0.8275 - val_loss: 1.8009 - val_acc: 0.4671\n",
            "Epoch 8/10\n",
            "187/187 [==============================] - 6s 31ms/step - loss: 0.3711 - acc: 0.8728 - val_loss: 1.9042 - val_acc: 0.4738\n",
            "Epoch 9/10\n",
            "187/187 [==============================] - 6s 31ms/step - loss: 0.2913 - acc: 0.9067 - val_loss: 2.1472 - val_acc: 0.4624\n",
            "Epoch 10/10\n",
            "187/187 [==============================] - 6s 31ms/step - loss: 0.2680 - acc: 0.9302 - val_loss: 2.2288 - val_acc: 0.4651\n"
          ],
          "name": "stdout"
        }
      ]
    },
    {
      "cell_type": "code",
      "metadata": {
        "colab": {
          "base_uri": "https://localhost:8080/",
          "height": 281
        },
        "id": "y5CewuwoFHoK",
        "outputId": "91dd0e8f-1350-469e-99cc-496996973cf5"
      },
      "source": [
        "import matplotlib.pyplot as plt\n",
        "\n",
        "# Now, if we want to plot the model on the basis of the training and validation accuracy with respect to the no. of epochs, we can do as the following:\n",
        "plt.title(\"Model Accuracy During Training\")\n",
        "plt.plot(history.history['acc'], label='Accuracy')\n",
        "plt.plot(history.history['val_acc'], label='Val_Accuracy')\n",
        "plt.legend()\n",
        "plt.show()"
      ],
      "execution_count": null,
      "outputs": [
        {
          "output_type": "display_data",
          "data": {
            "image/png": "[encoded data removed]",
            "text/plain": [
              "<Figure size 432x288 with 1 Axes>"
            ]
          },
          "metadata": {
            "tags": [],
            "needs_background": "light"
          }
        }
      ]
    },
    {
      "cell_type": "code",
      "metadata": {
        "colab": {
          "base_uri": "https://localhost:8080/",
          "height": 281
        },
        "id": "pAmuaLP3FdqD",
        "outputId": "9df25698-8add-4b18-d5d2-95b8f83b1ed5"
      },
      "source": [
        "# And, if we want to plot the model on the basis of the training and validation loss with respect to the no. of epochs, we can do as the following:\n",
        "plt.title(\"Model Loss During Training\")\n",
        "plt.plot(history.history['loss'], label='Loss')\n",
        "plt.plot(history.history['val_loss'], label='Val_Loss')\n",
        "plt.legend()\n",
        "plt.show()"
      ],
      "execution_count": null,
      "outputs": [
        {
          "output_type": "display_data",
          "data": {
            "image/png": "[encoded data removed]",
            "text/plain": [
              "<Figure size 432x288 with 1 Axes>"
            ]
          },
          "metadata": {
            "tags": [],
            "needs_background": "light"
          }
        }
      ]
    },
    {
      "cell_type": "markdown",
      "metadata": {
        "id": "nfKqqVX5XxDy"
      },
      "source": [
        "## **GLove + LSTM**"
      ]
    },
    {
      "cell_type": "code",
      "metadata": {
        "id": "bXlwFGxcFXy3",
        "colab": {
          "base_uri": "https://localhost:8080/"
        },
        "outputId": "18abe09d-c344-4763-85bf-c35818faca0f"
      },
      "source": [
        "# defining the embedding vector length as shape to the LSTM model\n",
        "embedding_vector_length = 54\n",
        "\n",
        "model = Sequential()\n",
        "model.add(Input(shape=(MAX_SEQ_LEN,), dtype = 'int32'))\n",
        "\n",
        "# The embedding layer is used to create the word vectors and such word vectors\n",
        "model.add(Embedding(vocab_size, 100, weights = [embedding_matrix], input_length=(MAX_SEQ_LEN,), trainable = True))\n",
        "\n",
        "# We have a long sequence lengths, so the model might get pretty dense\n",
        "# when the model becomes heavy and complex,n model might overfit.\n",
        "# so, we are adding a dropout layer as follows to avoid overfitting and boost training rate\n",
        "# Here, 1D spatial dropout drops the entire 1D feature maps instead of individual elements\n",
        "# like the regular dropout\n",
        "model.add(SpatialDropout1D(0.25))\n",
        "\n",
        "# Finally, we come to the backbone or the most important layer of the model\n",
        "# Let's add a LSTM model with 50 units with dropout rate of 0.5 and recurrent dropout of 0.5\n",
        "model.add(LSTM(35, dropout=0.5, recurrent_dropout=0.5))\n",
        "\n",
        "# Also, to avoid the overfitting, we add a regular dropout layer with dropout rate of 0.2 as\n",
        "model.add(Dropout(0.2))\n",
        "\n",
        "# Now, we use a dense layer at the end of the LSTM network with one unit in the ouput layer\n",
        "# The one unit gives the value. This value is interpreted by the loss function and\n",
        "# we obtain a value as a result of the model. HeremDense layer with output units of 7 class\n",
        "model.add(Dense(7, activation='softmax'))\n",
        "model.compile(loss='categorical_crossentropy',optimizer='adam', metrics=['acc'])  \n",
        "\n",
        "print(model.summary()) "
      ],
      "execution_count": null,
      "outputs": [
        {
          "output_type": "stream",
          "text": [
            "Model: \"sequential_3\"\n",
            "_________________________________________________________________\n",
            "Layer (type)                 Output Shape              Param #   \n",
            "=================================================================\n",
            "embedding_3 (Embedding)      (None, 178, 100)          906600    \n",
            "_________________________________________________________________\n",
            "spatial_dropout1d (SpatialDr (None, 178, 100)          0         \n",
            "_________________________________________________________________\n",
            "lstm (LSTM)                  (None, 35)                19040     \n",
            "_________________________________________________________________\n",
            "dropout_1 (Dropout)          (None, 35)                0         \n",
            "_________________________________________________________________\n",
            "dense_3 (Dense)              (None, 7)                 252       \n",
            "=================================================================\n",
            "Total params: 925,892\n",
            "Trainable params: 925,892\n",
            "Non-trainable params: 0\n",
            "_________________________________________________________________\n",
            "None\n"
          ],
          "name": "stdout"
        }
      ]
    },
    {
      "cell_type": "code",
      "metadata": {
        "id": "j400Vb00bVHl"
      },
      "source": [
        "output_dir = \"/content/drive/MyDrive/Output_Folder/\"\n",
        "model_name = \"Glove+LSTM\""
      ],
      "execution_count": null,
      "outputs": []
    },
    {
      "cell_type": "code",
      "metadata": {
        "colab": {
          "base_uri": "https://localhost:8080/"
        },
        "id": "M8fWief6ZjOb",
        "outputId": "fe5134cd-2559-4c3d-807c-0dffc6b0bec5"
      },
      "source": [
        "from keras.callbacks import ModelCheckpoint\n",
        "import os\n",
        "\n",
        "history = model.fit(X_train, y_train, epochs = 25, batch_size=32, verbose=True, validation_data=(X_test, y_test),\n",
        "                    callbacks=[ModelCheckpoint(os.path.join(output_dir, \"{model_name}\").format(model_name=model_name) + \"-{epoch:02d}-{val_acc:.2f}.hdf5\", save_best_only=True, verbose=True),\n",
        "                                            ] if model_name is not None else [])"
      ],
      "execution_count": null,
      "outputs": [
        {
          "output_type": "stream",
          "text": [
            "Epoch 1/25\n",
            "187/187 [==============================] - 44s 218ms/step - loss: 1.9649 - acc: 0.1567 - val_loss: 1.8567 - val_acc: 0.2866\n",
            "\n",
            "Epoch 00001: val_loss improved from inf to 1.85672, saving model to /content/drive/MyDrive/Output_Folder/Glove+LSTM-01-0.29.hdf5\n",
            "Epoch 2/25\n",
            "187/187 [==============================] - 45s 242ms/step - loss: 1.8628 - acc: 0.2448 - val_loss: 1.7408 - val_acc: 0.3228\n",
            "\n",
            "Epoch 00002: val_loss improved from 1.85672 to 1.74076, saving model to /content/drive/MyDrive/Output_Folder/Glove+LSTM-02-0.32.hdf5\n",
            "Epoch 3/25\n",
            "187/187 [==============================] - 42s 223ms/step - loss: 1.7552 - acc: 0.3098 - val_loss: 1.5725 - val_acc: 0.3779\n",
            "\n",
            "Epoch 00003: val_loss improved from 1.74076 to 1.57246, saving model to /content/drive/MyDrive/Output_Folder/Glove+LSTM-03-0.38.hdf5\n",
            "Epoch 4/25\n",
            "187/187 [==============================] - 41s 219ms/step - loss: 1.6349 - acc: 0.3748 - val_loss: 1.4846 - val_acc: 0.4336\n",
            "\n",
            "Epoch 00004: val_loss improved from 1.57246 to 1.48463, saving model to /content/drive/MyDrive/Output_Folder/Glove+LSTM-04-0.43.hdf5\n",
            "Epoch 5/25\n",
            "187/187 [==============================] - 41s 219ms/step - loss: 1.4964 - acc: 0.4299 - val_loss: 1.3464 - val_acc: 0.5034\n",
            "\n",
            "Epoch 00005: val_loss improved from 1.48463 to 1.34645, saving model to /content/drive/MyDrive/Output_Folder/Glove+LSTM-05-0.50.hdf5\n",
            "Epoch 6/25\n",
            "187/187 [==============================] - 42s 225ms/step - loss: 1.3580 - acc: 0.5013 - val_loss: 1.2745 - val_acc: 0.5369\n",
            "\n",
            "Epoch 00006: val_loss improved from 1.34645 to 1.27446, saving model to /content/drive/MyDrive/Output_Folder/Glove+LSTM-06-0.54.hdf5\n",
            "Epoch 7/25\n",
            "187/187 [==============================] - 42s 222ms/step - loss: 1.2666 - acc: 0.5413 - val_loss: 1.2302 - val_acc: 0.5450\n",
            "\n",
            "Epoch 00007: val_loss improved from 1.27446 to 1.23021, saving model to /content/drive/MyDrive/Output_Folder/Glove+LSTM-07-0.54.hdf5\n",
            "Epoch 8/25\n",
            "187/187 [==============================] - 42s 224ms/step - loss: 1.1785 - acc: 0.5874 - val_loss: 1.1510 - val_acc: 0.5859\n",
            "\n",
            "Epoch 00008: val_loss improved from 1.23021 to 1.15103, saving model to /content/drive/MyDrive/Output_Folder/Glove+LSTM-08-0.59.hdf5\n",
            "Epoch 9/25\n",
            "187/187 [==============================] - 41s 221ms/step - loss: 1.1109 - acc: 0.6052 - val_loss: 1.1217 - val_acc: 0.5953\n",
            "\n",
            "Epoch 00009: val_loss improved from 1.15103 to 1.12168, saving model to /content/drive/MyDrive/Output_Folder/Glove+LSTM-09-0.60.hdf5\n",
            "Epoch 10/25\n",
            "187/187 [==============================] - 41s 221ms/step - loss: 0.9951 - acc: 0.6546 - val_loss: 1.1183 - val_acc: 0.6034\n",
            "\n",
            "Epoch 00010: val_loss improved from 1.12168 to 1.11830, saving model to /content/drive/MyDrive/Output_Folder/Glove+LSTM-10-0.60.hdf5\n",
            "Epoch 11/25\n",
            "187/187 [==============================] - 42s 223ms/step - loss: 0.9690 - acc: 0.6659 - val_loss: 1.1222 - val_acc: 0.6060\n",
            "\n",
            "Epoch 00011: val_loss did not improve from 1.11830\n",
            "Epoch 12/25\n",
            "187/187 [==============================] - 41s 221ms/step - loss: 0.9219 - acc: 0.6741 - val_loss: 1.1060 - val_acc: 0.6094\n",
            "\n",
            "Epoch 00012: val_loss improved from 1.11830 to 1.10599, saving model to /content/drive/MyDrive/Output_Folder/Glove+LSTM-12-0.61.hdf5\n",
            "Epoch 13/25\n",
            "187/187 [==============================] - 41s 221ms/step - loss: 0.9038 - acc: 0.6878 - val_loss: 1.1171 - val_acc: 0.6174\n",
            "\n",
            "Epoch 00013: val_loss did not improve from 1.10599\n",
            "Epoch 14/25\n",
            "187/187 [==============================] - 41s 221ms/step - loss: 0.8514 - acc: 0.7061 - val_loss: 1.1071 - val_acc: 0.6128\n",
            "\n",
            "Epoch 00014: val_loss did not improve from 1.10599\n",
            "Epoch 15/25\n",
            "187/187 [==============================] - 41s 221ms/step - loss: 0.8113 - acc: 0.7264 - val_loss: 1.1110 - val_acc: 0.6188\n",
            "\n",
            "Epoch 00015: val_loss did not improve from 1.10599\n",
            "Epoch 16/25\n",
            "187/187 [==============================] - 41s 221ms/step - loss: 0.7451 - acc: 0.7417 - val_loss: 1.1250 - val_acc: 0.6114\n",
            "\n",
            "Epoch 00016: val_loss did not improve from 1.10599\n",
            "Epoch 17/25\n",
            "187/187 [==============================] - 41s 222ms/step - loss: 0.7618 - acc: 0.7351 - val_loss: 1.1367 - val_acc: 0.6121\n",
            "\n",
            "Epoch 00017: val_loss did not improve from 1.10599\n",
            "Epoch 18/25\n",
            "187/187 [==============================] - 42s 222ms/step - loss: 0.6937 - acc: 0.7665 - val_loss: 1.1540 - val_acc: 0.6141\n",
            "\n",
            "Epoch 00018: val_loss did not improve from 1.10599\n",
            "Epoch 19/25\n",
            "187/187 [==============================] - 41s 220ms/step - loss: 0.6665 - acc: 0.7783 - val_loss: 1.1685 - val_acc: 0.6121\n",
            "\n",
            "Epoch 00019: val_loss did not improve from 1.10599\n",
            "Epoch 20/25\n",
            "187/187 [==============================] - 41s 220ms/step - loss: 0.6643 - acc: 0.7725 - val_loss: 1.1785 - val_acc: 0.6161\n",
            "\n",
            "Epoch 00020: val_loss did not improve from 1.10599\n",
            "Epoch 21/25\n",
            "187/187 [==============================] - 41s 219ms/step - loss: 0.6353 - acc: 0.7791 - val_loss: 1.2018 - val_acc: 0.6074\n",
            "\n",
            "Epoch 00021: val_loss did not improve from 1.10599\n",
            "Epoch 22/25\n",
            "187/187 [==============================] - 41s 218ms/step - loss: 0.5861 - acc: 0.8080 - val_loss: 1.2301 - val_acc: 0.6094\n",
            "\n",
            "Epoch 00022: val_loss did not improve from 1.10599\n",
            "Epoch 23/25\n",
            "187/187 [==============================] - 41s 219ms/step - loss: 0.6000 - acc: 0.8033 - val_loss: 1.2341 - val_acc: 0.6094\n",
            "\n",
            "Epoch 00023: val_loss did not improve from 1.10599\n",
            "Epoch 24/25\n",
            "187/187 [==============================] - 41s 219ms/step - loss: 0.5552 - acc: 0.8109 - val_loss: 1.2413 - val_acc: 0.6060\n",
            "\n",
            "Epoch 00024: val_loss did not improve from 1.10599\n",
            "Epoch 25/25\n",
            "187/187 [==============================] - 47s 252ms/step - loss: 0.5442 - acc: 0.8240 - val_loss: 1.2632 - val_acc: 0.6174\n",
            "\n",
            "Epoch 00025: val_loss did not improve from 1.10599\n"
          ],
          "name": "stdout"
        }
      ]
    },
    {
      "cell_type": "code",
      "metadata": {
        "colab": {
          "base_uri": "https://localhost:8080/",
          "height": 281
        },
        "id": "kp-JPUTWbaB1",
        "outputId": "3533075f-b63d-4b78-eb3d-34cfbc97d580"
      },
      "source": [
        "plt.title(\"Model Accuracy During Training\")\n",
        "plt.plot(history.history['acc'], label='Accuracy')\n",
        "plt.plot(history.history['val_acc'], label='Val_Accuracy')\n",
        "plt.legend()\n",
        "plt.show()"
      ],
      "execution_count": null,
      "outputs": [
        {
          "output_type": "display_data",
          "data": {
            "image/png": "[encoded data removed]",
            "text/plain": [
              "<Figure size 432x288 with 1 Axes>"
            ]
          },
          "metadata": {
            "tags": [],
            "needs_background": "light"
          }
        }
      ]
    },
    {
      "cell_type": "code",
      "metadata": {
        "colab": {
          "base_uri": "https://localhost:8080/",
          "height": 281
        },
        "id": "qcVohbi1ffKs",
        "outputId": "622ed740-80dd-4b08-b3c3-af9991108988"
      },
      "source": [
        "plt.title(\"Model Loss During Training\")\n",
        "plt.plot(history.history['loss'], label='Loss')\n",
        "plt.plot(history.history['val_loss'], label='Val_Loss')\n",
        "plt.legend()\n",
        "plt.show()"
      ],
      "execution_count": null,
      "outputs": [
        {
          "output_type": "display_data",
          "data": {
            "image/png": "[encoded data removed]",
            "text/plain": [
              "<Figure size 432x288 with 1 Axes>"
            ]
          },
          "metadata": {
            "tags": [],
            "needs_background": "light"
          }
        }
      ]
    },
    {
      "cell_type": "code",
      "metadata": {
        "id": "Ql0YU97Jfhls"
      },
      "source": [
        ""
      ],
      "execution_count": null,
      "outputs": []
    }
  ]
}