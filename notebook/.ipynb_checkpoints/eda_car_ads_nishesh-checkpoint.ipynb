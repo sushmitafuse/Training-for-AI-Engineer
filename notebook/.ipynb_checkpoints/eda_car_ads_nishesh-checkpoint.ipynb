{
 "cells": [
  {
   "cell_type": "code",
   "execution_count": 1,
   "metadata": {},
   "outputs": [],
   "source": [
    "import numpy as np\n",
    "import pandas as pd\n",
    "import matplotlib.pyplot as plt\n",
    "import seaborn as sns\n",
    "from sklearn.preprocessing import StandardScaler\n",
    "\n",
    "%matplotlib inline"
   ]
  },
  {
   "cell_type": "code",
   "execution_count": 2,
   "metadata": {},
   "outputs": [
    {
     "name": "stderr",
     "output_type": "stream",
     "text": [
      "/home/nishesh/anaconda3/envs/work/lib/python3.8/site-packages/IPython/core/interactiveshell.py:3146: DtypeWarning: Columns (7,8,10,11,12) have mixed types.Specify dtype option on import or set low_memory=False.\n",
      "  has_raised = await self.run_ast_nodes(code_ast.body, cell_name,\n"
     ]
    },
    {
     "data": {
      "text/html": [
       "<div>\n",
       "<style scoped>\n",
       "    .dataframe tbody tr th:only-of-type {\n",
       "        vertical-align: middle;\n",
       "    }\n",
       "\n",
       "    .dataframe tbody tr th {\n",
       "        vertical-align: top;\n",
       "    }\n",
       "\n",
       "    .dataframe thead th {\n",
       "        text-align: right;\n",
       "    }\n",
       "</style>\n",
       "<table border=\"1\" class=\"dataframe\">\n",
       "  <thead>\n",
       "    <tr style=\"text-align: right;\">\n",
       "      <th></th>\n",
       "      <th>maker</th>\n",
       "      <th>model</th>\n",
       "      <th>mileage</th>\n",
       "      <th>manufacture_year</th>\n",
       "      <th>engine_displacement</th>\n",
       "      <th>engine_power</th>\n",
       "      <th>body_type</th>\n",
       "      <th>color_slug</th>\n",
       "      <th>stk_year</th>\n",
       "      <th>transmission</th>\n",
       "      <th>door_count</th>\n",
       "      <th>seat_count</th>\n",
       "      <th>fuel_type</th>\n",
       "      <th>date_created</th>\n",
       "      <th>date_last_seen</th>\n",
       "      <th>price_eur</th>\n",
       "    </tr>\n",
       "  </thead>\n",
       "  <tbody>\n",
       "    <tr>\n",
       "      <th>0</th>\n",
       "      <td>ford</td>\n",
       "      <td>galaxy</td>\n",
       "      <td>151000.0</td>\n",
       "      <td>2011.0</td>\n",
       "      <td>2000.0</td>\n",
       "      <td>103.0</td>\n",
       "      <td>NaN</td>\n",
       "      <td>NaN</td>\n",
       "      <td>None</td>\n",
       "      <td>man</td>\n",
       "      <td>5</td>\n",
       "      <td>7</td>\n",
       "      <td>diesel</td>\n",
       "      <td>2015-11-14 18:10:06.838319+00</td>\n",
       "      <td>2016-01-27 20:40:15.46361+00</td>\n",
       "      <td>10584.75</td>\n",
       "    </tr>\n",
       "    <tr>\n",
       "      <th>1</th>\n",
       "      <td>skoda</td>\n",
       "      <td>octavia</td>\n",
       "      <td>143476.0</td>\n",
       "      <td>2012.0</td>\n",
       "      <td>2000.0</td>\n",
       "      <td>81.0</td>\n",
       "      <td>NaN</td>\n",
       "      <td>NaN</td>\n",
       "      <td>None</td>\n",
       "      <td>man</td>\n",
       "      <td>5</td>\n",
       "      <td>5</td>\n",
       "      <td>diesel</td>\n",
       "      <td>2015-11-14 18:10:06.853411+00</td>\n",
       "      <td>2016-01-27 20:40:15.46361+00</td>\n",
       "      <td>8882.31</td>\n",
       "    </tr>\n",
       "    <tr>\n",
       "      <th>2</th>\n",
       "      <td>bmw</td>\n",
       "      <td>NaN</td>\n",
       "      <td>97676.0</td>\n",
       "      <td>2010.0</td>\n",
       "      <td>1995.0</td>\n",
       "      <td>85.0</td>\n",
       "      <td>NaN</td>\n",
       "      <td>NaN</td>\n",
       "      <td>None</td>\n",
       "      <td>man</td>\n",
       "      <td>5</td>\n",
       "      <td>5</td>\n",
       "      <td>diesel</td>\n",
       "      <td>2015-11-14 18:10:06.861792+00</td>\n",
       "      <td>2016-01-27 20:40:15.46361+00</td>\n",
       "      <td>12065.06</td>\n",
       "    </tr>\n",
       "    <tr>\n",
       "      <th>3</th>\n",
       "      <td>skoda</td>\n",
       "      <td>fabia</td>\n",
       "      <td>111970.0</td>\n",
       "      <td>2004.0</td>\n",
       "      <td>1200.0</td>\n",
       "      <td>47.0</td>\n",
       "      <td>NaN</td>\n",
       "      <td>NaN</td>\n",
       "      <td>None</td>\n",
       "      <td>man</td>\n",
       "      <td>5</td>\n",
       "      <td>5</td>\n",
       "      <td>gasoline</td>\n",
       "      <td>2015-11-14 18:10:06.872313+00</td>\n",
       "      <td>2016-01-27 20:40:15.46361+00</td>\n",
       "      <td>2960.77</td>\n",
       "    </tr>\n",
       "    <tr>\n",
       "      <th>4</th>\n",
       "      <td>skoda</td>\n",
       "      <td>fabia</td>\n",
       "      <td>128886.0</td>\n",
       "      <td>2004.0</td>\n",
       "      <td>1200.0</td>\n",
       "      <td>47.0</td>\n",
       "      <td>NaN</td>\n",
       "      <td>NaN</td>\n",
       "      <td>None</td>\n",
       "      <td>man</td>\n",
       "      <td>5</td>\n",
       "      <td>5</td>\n",
       "      <td>gasoline</td>\n",
       "      <td>2015-11-14 18:10:06.880335+00</td>\n",
       "      <td>2016-01-27 20:40:15.46361+00</td>\n",
       "      <td>2738.71</td>\n",
       "    </tr>\n",
       "  </tbody>\n",
       "</table>\n",
       "</div>"
      ],
      "text/plain": [
       "   maker    model   mileage  manufacture_year  engine_displacement  \\\n",
       "0   ford   galaxy  151000.0            2011.0               2000.0   \n",
       "1  skoda  octavia  143476.0            2012.0               2000.0   \n",
       "2    bmw      NaN   97676.0            2010.0               1995.0   \n",
       "3  skoda    fabia  111970.0            2004.0               1200.0   \n",
       "4  skoda    fabia  128886.0            2004.0               1200.0   \n",
       "\n",
       "   engine_power body_type color_slug stk_year transmission door_count  \\\n",
       "0         103.0       NaN        NaN     None          man          5   \n",
       "1          81.0       NaN        NaN     None          man          5   \n",
       "2          85.0       NaN        NaN     None          man          5   \n",
       "3          47.0       NaN        NaN     None          man          5   \n",
       "4          47.0       NaN        NaN     None          man          5   \n",
       "\n",
       "  seat_count fuel_type                   date_created  \\\n",
       "0          7    diesel  2015-11-14 18:10:06.838319+00   \n",
       "1          5    diesel  2015-11-14 18:10:06.853411+00   \n",
       "2          5    diesel  2015-11-14 18:10:06.861792+00   \n",
       "3          5  gasoline  2015-11-14 18:10:06.872313+00   \n",
       "4          5  gasoline  2015-11-14 18:10:06.880335+00   \n",
       "\n",
       "                 date_last_seen  price_eur  \n",
       "0  2016-01-27 20:40:15.46361+00   10584.75  \n",
       "1  2016-01-27 20:40:15.46361+00    8882.31  \n",
       "2  2016-01-27 20:40:15.46361+00   12065.06  \n",
       "3  2016-01-27 20:40:15.46361+00    2960.77  \n",
       "4  2016-01-27 20:40:15.46361+00    2738.71  "
      ]
     },
     "execution_count": 2,
     "metadata": {},
     "output_type": "execute_result"
    }
   ],
   "source": [
    "df = pd.read_csv('/home/nishesh/Desktop/Work/Trainings/archive/all_anonymized_2015_11_2017_03.csv')\n",
    "df.head()"
   ]
  },
  {
   "cell_type": "code",
   "execution_count": 3,
   "metadata": {},
   "outputs": [
    {
     "data": {
      "text/plain": [
       "(3552912, 16)"
      ]
     },
     "execution_count": 3,
     "metadata": {},
     "output_type": "execute_result"
    }
   ],
   "source": [
    "df.shape"
   ]
  },
  {
   "cell_type": "markdown",
   "metadata": {},
   "source": [
    "#### Analyzing price_eur"
   ]
  },
  {
   "cell_type": "code",
   "execution_count": 4,
   "metadata": {},
   "outputs": [
    {
     "data": {
      "text/plain": [
       "count    3.552912e+06\n",
       "mean     1.625812e+06\n",
       "std      2.025622e+09\n",
       "min      4.000000e-02\n",
       "25%      1.295340e+03\n",
       "50%      7.364910e+03\n",
       "75%      1.628423e+04\n",
       "max      2.706149e+12\n",
       "Name: price_eur, dtype: float64"
      ]
     },
     "execution_count": 4,
     "metadata": {},
     "output_type": "execute_result"
    }
   ],
   "source": [
    "df['price_eur'].describe()"
   ]
  },
  {
   "cell_type": "markdown",
   "metadata": {},
   "source": [
    "After performing log transformation, price has almost normal distribution with peak value at around 1000 EUR."
   ]
  },
  {
   "cell_type": "code",
   "execution_count": 6,
   "metadata": {},
   "outputs": [
    {
     "data": {
      "image/png": "[encoded data removed]",
      "text/plain": [
       "<Figure size 720x504 with 2 Axes>"
      ]
     },
     "metadata": {
      "needs_background": "light"
     },
     "output_type": "display_data"
    }
   ],
   "source": [
    "#correlation matrix\n",
    "corrmat = df.corr()\n",
    "f, ax = plt.subplots(figsize=(10, 7))\n",
    "sns.heatmap(corrmat, vmax=.8, square=True, annot=True);"
   ]
  },
  {
   "cell_type": "markdown",
   "metadata": {},
   "source": [
    "From the above diagram, we can see that engine_displacement and engine_power are highly correlated among other numerical attributes."
   ]
  },
  {
   "cell_type": "markdown",
   "metadata": {},
   "source": [
    "#### Handling missing data"
   ]
  },
  {
   "cell_type": "code",
   "execution_count": 7,
   "metadata": {},
   "outputs": [
    {
     "data": {
      "text/html": [
       "<div>\n",
       "<style scoped>\n",
       "    .dataframe tbody tr th:only-of-type {\n",
       "        vertical-align: middle;\n",
       "    }\n",
       "\n",
       "    .dataframe tbody tr th {\n",
       "        vertical-align: top;\n",
       "    }\n",
       "\n",
       "    .dataframe thead th {\n",
       "        text-align: right;\n",
       "    }\n",
       "</style>\n",
       "<table border=\"1\" class=\"dataframe\">\n",
       "  <thead>\n",
       "    <tr style=\"text-align: right;\">\n",
       "      <th></th>\n",
       "      <th>Total</th>\n",
       "      <th>Percent</th>\n",
       "    </tr>\n",
       "  </thead>\n",
       "  <tbody>\n",
       "    <tr>\n",
       "      <th>color_slug</th>\n",
       "      <td>3343411</td>\n",
       "      <td>0.941034</td>\n",
       "    </tr>\n",
       "    <tr>\n",
       "      <th>fuel_type</th>\n",
       "      <td>1847606</td>\n",
       "      <td>0.520026</td>\n",
       "    </tr>\n",
       "    <tr>\n",
       "      <th>stk_year</th>\n",
       "      <td>1708156</td>\n",
       "      <td>0.480776</td>\n",
       "    </tr>\n",
       "    <tr>\n",
       "      <th>model</th>\n",
       "      <td>1133361</td>\n",
       "      <td>0.318995</td>\n",
       "    </tr>\n",
       "    <tr>\n",
       "      <th>body_type</th>\n",
       "      <td>1122914</td>\n",
       "      <td>0.316055</td>\n",
       "    </tr>\n",
       "    <tr>\n",
       "      <th>seat_count</th>\n",
       "      <td>749489</td>\n",
       "      <td>0.210951</td>\n",
       "    </tr>\n",
       "    <tr>\n",
       "      <th>engine_displacement</th>\n",
       "      <td>743414</td>\n",
       "      <td>0.209241</td>\n",
       "    </tr>\n",
       "    <tr>\n",
       "      <th>transmission</th>\n",
       "      <td>741630</td>\n",
       "      <td>0.208739</td>\n",
       "    </tr>\n",
       "    <tr>\n",
       "      <th>door_count</th>\n",
       "      <td>614373</td>\n",
       "      <td>0.172921</td>\n",
       "    </tr>\n",
       "    <tr>\n",
       "      <th>engine_power</th>\n",
       "      <td>554877</td>\n",
       "      <td>0.156175</td>\n",
       "    </tr>\n",
       "    <tr>\n",
       "      <th>maker</th>\n",
       "      <td>518915</td>\n",
       "      <td>0.146053</td>\n",
       "    </tr>\n",
       "    <tr>\n",
       "      <th>manufacture_year</th>\n",
       "      <td>370578</td>\n",
       "      <td>0.104303</td>\n",
       "    </tr>\n",
       "    <tr>\n",
       "      <th>mileage</th>\n",
       "      <td>362584</td>\n",
       "      <td>0.102053</td>\n",
       "    </tr>\n",
       "    <tr>\n",
       "      <th>price_eur</th>\n",
       "      <td>0</td>\n",
       "      <td>0.000000</td>\n",
       "    </tr>\n",
       "    <tr>\n",
       "      <th>date_last_seen</th>\n",
       "      <td>0</td>\n",
       "      <td>0.000000</td>\n",
       "    </tr>\n",
       "    <tr>\n",
       "      <th>date_created</th>\n",
       "      <td>0</td>\n",
       "      <td>0.000000</td>\n",
       "    </tr>\n",
       "  </tbody>\n",
       "</table>\n",
       "</div>"
      ],
      "text/plain": [
       "                       Total   Percent\n",
       "color_slug           3343411  0.941034\n",
       "fuel_type            1847606  0.520026\n",
       "stk_year             1708156  0.480776\n",
       "model                1133361  0.318995\n",
       "body_type            1122914  0.316055\n",
       "seat_count            749489  0.210951\n",
       "engine_displacement   743414  0.209241\n",
       "transmission          741630  0.208739\n",
       "door_count            614373  0.172921\n",
       "engine_power          554877  0.156175\n",
       "maker                 518915  0.146053\n",
       "manufacture_year      370578  0.104303\n",
       "mileage               362584  0.102053\n",
       "price_eur                  0  0.000000\n",
       "date_last_seen             0  0.000000\n",
       "date_created               0  0.000000"
      ]
     },
     "execution_count": 7,
     "metadata": {},
     "output_type": "execute_result"
    }
   ],
   "source": [
    "total = df.isnull().sum().sort_values(ascending=False)\n",
    "percent = (df.isnull().sum() / df.isnull().count()).sort_values(ascending=False)\n",
    "missing_data = pd.concat([total, percent], axis=1, keys=['Total', 'Percent'])\n",
    "missing_data"
   ]
  },
  {
   "cell_type": "code",
   "execution_count": 8,
   "metadata": {},
   "outputs": [],
   "source": [
    "df_new = df.drop(['color_slug', 'fuel_type', 'stk_year', 'date_last_seen', 'date_created'], axis=1)"
   ]
  },
  {
   "cell_type": "markdown",
   "metadata": {},
   "source": [
    "The column with more than 40% of the missing data are dropped and we pretend that it never existed. Also, the columns date_last_seen and date_created were also dropped."
   ]
  },
  {
   "cell_type": "code",
   "execution_count": 9,
   "metadata": {},
   "outputs": [
    {
     "name": "stdout",
     "output_type": "stream",
     "text": [
      "<class 'pandas.core.frame.DataFrame'>\n",
      "RangeIndex: 3552912 entries, 0 to 3552911\n",
      "Data columns (total 11 columns):\n",
      " #   Column               Dtype  \n",
      "---  ------               -----  \n",
      " 0   maker                object \n",
      " 1   model                object \n",
      " 2   mileage              float64\n",
      " 3   manufacture_year     float64\n",
      " 4   engine_displacement  float64\n",
      " 5   engine_power         float64\n",
      " 6   body_type            object \n",
      " 7   transmission         object \n",
      " 8   door_count           object \n",
      " 9   seat_count           object \n",
      " 10  price_eur            float64\n",
      "dtypes: float64(5), object(6)\n",
      "memory usage: 298.2+ MB\n"
     ]
    }
   ],
   "source": [
    "df_new.info()"
   ]
  },
  {
   "cell_type": "markdown",
   "metadata": {},
   "source": [
    "#### For maker and model column"
   ]
  },
  {
   "cell_type": "code",
   "execution_count": 10,
   "metadata": {},
   "outputs": [
    {
     "data": {
      "text/plain": [
       "array(['ford', 'skoda', 'bmw', nan, 'suzuki', 'nissan', 'opel', 'citroen',\n",
       "       'seat', 'kia', 'audi', 'rover', 'toyota', 'hyundai', 'fiat',\n",
       "       'volvo', 'chevrolet', 'mazda', 'jeep', 'mercedes-benz', 'subaru',\n",
       "       'chrysler', 'lancia', 'smart', 'honda', 'porsche', 'dodge',\n",
       "       'mitsubishi', 'mini', 'jaguar', 'lexus', 'hummer', 'bentley',\n",
       "       'tesla', 'maserati', 'isuzu', 'lamborghini', 'lotus', 'volkswagen',\n",
       "       'peugeot', 'renault', 'alfa-romeo', 'infinity', 'rolls-royce',\n",
       "       'aston-martin', 'land-rover', 'dacia'], dtype=object)"
      ]
     },
     "execution_count": 10,
     "metadata": {},
     "output_type": "execute_result"
    }
   ],
   "source": [
    "df_new['maker'].unique()"
   ]
  },
  {
   "cell_type": "code",
   "execution_count": 11,
   "metadata": {},
   "outputs": [
    {
     "data": {
      "text/plain": [
       "skoda            313830\n",
       "volkswagen       297256\n",
       "bmw              266731\n",
       "mercedes-benz    251966\n",
       "audi             248602\n",
       "ford             240556\n",
       "opel             217708\n",
       "fiat             132669\n",
       "citroen          121913\n",
       "renault          106831\n",
       "peugeot           92130\n",
       "hyundai           80602\n",
       "seat              74645\n",
       "toyota            72908\n",
       "nissan            68008\n",
       "kia               48607\n",
       "volvo             48271\n",
       "mazda             45666\n",
       "mini              35678\n",
       "smart             32918\n",
       "suzuki            31184\n",
       "mitsubishi        28463\n",
       "honda             26225\n",
       "porsche           24317\n",
       "chevrolet         20856\n",
       "rover             20611\n",
       "jeep              17075\n",
       "lancia            13759\n",
       "subaru            10107\n",
       "jaguar            10056\n",
       "chrysler           9296\n",
       "dodge              5223\n",
       "alfa-romeo         4734\n",
       "lexus              3911\n",
       "dacia              2024\n",
       "maserati           1912\n",
       "land-rover         1721\n",
       "isuzu              1427\n",
       "bentley            1081\n",
       "hummer              731\n",
       "lamborghini         554\n",
       "infinity            506\n",
       "lotus               426\n",
       "tesla               235\n",
       "rolls-royce          46\n",
       "aston-martin         22\n",
       "Name: maker, dtype: int64"
      ]
     },
     "execution_count": 11,
     "metadata": {},
     "output_type": "execute_result"
    }
   ],
   "source": [
    "df_new['maker'].value_counts()"
   ]
  },
  {
   "cell_type": "code",
   "execution_count": 12,
   "metadata": {},
   "outputs": [
    {
     "data": {
      "text/plain": [
       "array(['galaxy', 'octavia', nan, ..., '125d', 'glk200-cdi', '760i'],\n",
       "      dtype=object)"
      ]
     },
     "execution_count": 12,
     "metadata": {},
     "output_type": "execute_result"
    }
   ],
   "source": [
    "df_new['model'].unique()"
   ]
  },
  {
   "cell_type": "code",
   "execution_count": 13,
   "metadata": {},
   "outputs": [
    {
     "data": {
      "text/plain": [
       "octavia    129563\n",
       "fabia       91401\n",
       "golf        91234\n",
       "focus       61137\n",
       "astra       58376\n",
       "            ...  \n",
       "760i            1\n",
       "cirrus          1\n",
       "c32-amg         1\n",
       "418i            1\n",
       "c180e           1\n",
       "Name: model, Length: 1012, dtype: int64"
      ]
     },
     "execution_count": 13,
     "metadata": {},
     "output_type": "execute_result"
    }
   ],
   "source": [
    "df_new['model'].value_counts()"
   ]
  },
  {
   "cell_type": "code",
   "execution_count": 14,
   "metadata": {},
   "outputs": [],
   "source": [
    "# Drop rows if either maker of model column contains null values\n",
    "df_new = df_new[df_new['maker'].isna() | df_new['model'].isna() == False]"
   ]
  },
  {
   "cell_type": "markdown",
   "metadata": {},
   "source": [
    "#### For seat_count and door_count column"
   ]
  },
  {
   "cell_type": "code",
   "execution_count": 15,
   "metadata": {},
   "outputs": [
    {
     "data": {
      "text/plain": [
       "array(['5', '4', '3', 'None', '2', '6', '1', '7', nan, 5.0, 4.0, 3.0, 2.0,\n",
       "       6.0, 9.0, 1.0, 7.0, 77.0, 58.0, 54.0, 0.0, 55.0, 22.0, 8.0, 45.0,\n",
       "       49.0], dtype=object)"
      ]
     },
     "execution_count": 15,
     "metadata": {},
     "output_type": "execute_result"
    }
   ],
   "source": [
    "df_new['door_count'].unique()"
   ]
  },
  {
   "cell_type": "code",
   "execution_count": 16,
   "metadata": {},
   "outputs": [
    {
     "data": {
      "text/plain": [
       "array(['7', '5', '4', 'None', '9', '2', '6', '8', '3', '1', '18', '50',\n",
       "       '12', '74', '10', '54', '14', '13', '15', '17', '56', '20', '11',\n",
       "       nan, 5.0, 4.0, 7.0, 2.0, 8.0, 6.0, 9.0, 3.0, 1.0, 17.0, 18.0, 15.0,\n",
       "       58.0, 10.0, 45.0, 13.0, 55.0, 12.0, 54.0, 16.0, 57.0, 74.0, 50.0,\n",
       "       0.0, 512.0, 14.0, 515.0, 52.0, 85.0, 517.0, 43.0], dtype=object)"
      ]
     },
     "execution_count": 16,
     "metadata": {},
     "output_type": "execute_result"
    }
   ],
   "source": [
    "df_new['seat_count'].unique()"
   ]
  },
  {
   "cell_type": "markdown",
   "metadata": {},
   "source": [
    "The value of door_count and seat_count contains unrealistic values like 55, 515, etc. So, the entries with door_count > 10 and seat_count > 10 are also dropped."
   ]
  },
  {
   "cell_type": "code",
   "execution_count": 17,
   "metadata": {},
   "outputs": [
    {
     "data": {
      "text/plain": [
       "0    5\n",
       "dtype: object"
      ]
     },
     "execution_count": 17,
     "metadata": {},
     "output_type": "execute_result"
    }
   ],
   "source": [
    "df_new['door_count'].mode()"
   ]
  },
  {
   "cell_type": "code",
   "execution_count": 18,
   "metadata": {},
   "outputs": [
    {
     "data": {
      "text/plain": [
       "0    5\n",
       "dtype: object"
      ]
     },
     "execution_count": 18,
     "metadata": {},
     "output_type": "execute_result"
    }
   ],
   "source": [
    "df_new['seat_count'].mode()"
   ]
  },
  {
   "cell_type": "code",
   "execution_count": 19,
   "metadata": {},
   "outputs": [],
   "source": [
    "# Replace None in the column with Nan\n",
    "df_new['door_count'].replace('None', np.nan, inplace=True)\n",
    "df_new['seat_count'].replace('None', np.nan, inplace=True)"
   ]
  },
  {
   "cell_type": "code",
   "execution_count": 20,
   "metadata": {},
   "outputs": [],
   "source": [
    "# Replace all Nan with the mode value\n",
    "df_new['door_count'].replace(np.nan,df_new['door_count'].mode()[0], inplace=True)\n",
    "df_new['seat_count'].replace(np.nan,df_new['seat_count'].mode()[0], inplace=True)"
   ]
  },
  {
   "cell_type": "code",
   "execution_count": 21,
   "metadata": {},
   "outputs": [],
   "source": [
    "# Remove rows with door_count > 10\n",
    "df_new = df_new[(df_new['door_count'].astype(int) < 11)]"
   ]
  },
  {
   "cell_type": "code",
   "execution_count": 22,
   "metadata": {},
   "outputs": [],
   "source": [
    "# Remove rows with seat_count > 10\n",
    "df_new = df_new[(df_new['seat_count'].astype(int) < 11)]"
   ]
  },
  {
   "cell_type": "markdown",
   "metadata": {},
   "source": [
    "#### For body_type and transmission columns"
   ]
  },
  {
   "cell_type": "code",
   "execution_count": 23,
   "metadata": {},
   "outputs": [
    {
     "data": {
      "text/plain": [
       "array([nan, 'van', 'compact', 'coupe', 'transporter', 'other',\n",
       "       'convertible', 'sedan', 'stationwagon', 'offroad'], dtype=object)"
      ]
     },
     "execution_count": 23,
     "metadata": {},
     "output_type": "execute_result"
    }
   ],
   "source": [
    "df_new['body_type'].unique()"
   ]
  },
  {
   "cell_type": "code",
   "execution_count": 24,
   "metadata": {},
   "outputs": [
    {
     "data": {
      "text/plain": [
       "array(['man', 'auto', nan], dtype=object)"
      ]
     },
     "execution_count": 24,
     "metadata": {},
     "output_type": "execute_result"
    }
   ],
   "source": [
    "df_new['transmission'].unique()"
   ]
  },
  {
   "cell_type": "code",
   "execution_count": 25,
   "metadata": {},
   "outputs": [],
   "source": [
    "# Replace all Nan with the mode value\n",
    "df_new['body_type'].replace(np.nan,df_new['body_type'].mode()[0], inplace=True)\n",
    "df_new['transmission'].replace(np.nan,df_new['transmission'].mode()[0], inplace=True)"
   ]
  },
  {
   "cell_type": "code",
   "execution_count": 26,
   "metadata": {},
   "outputs": [
    {
     "data": {
      "text/plain": [
       "array(['other', 'van', 'compact', 'coupe', 'transporter', 'convertible',\n",
       "       'sedan', 'stationwagon', 'offroad'], dtype=object)"
      ]
     },
     "execution_count": 26,
     "metadata": {},
     "output_type": "execute_result"
    }
   ],
   "source": [
    "df_new['body_type'].unique()"
   ]
  },
  {
   "cell_type": "markdown",
   "metadata": {},
   "source": [
    "#### For numerical attributes like mileage, manufacture_year, engine_displacement and engine_power, the Nan values are replaced by their respective medians."
   ]
  },
  {
   "cell_type": "code",
   "execution_count": 27,
   "metadata": {},
   "outputs": [],
   "source": [
    "df_new['mileage'].replace(np.nan,df_new['mileage'].median(), inplace=True)\n",
    "df_new['manufacture_year'].replace(np.nan,df_new['manufacture_year'].median(), inplace=True)\n",
    "df_new['engine_displacement'].replace(np.nan,df_new['engine_displacement'].median(), inplace=True)\n",
    "df_new['engine_power'].replace(np.nan,df_new['engine_power'].median(), inplace=True)"
   ]
  },
  {
   "cell_type": "code",
   "execution_count": 28,
   "metadata": {},
   "outputs": [
    {
     "data": {
      "text/plain": [
       "maker                  0\n",
       "model                  0\n",
       "mileage                0\n",
       "manufacture_year       0\n",
       "engine_displacement    0\n",
       "engine_power           0\n",
       "body_type              0\n",
       "transmission           0\n",
       "door_count             0\n",
       "seat_count             0\n",
       "price_eur              0\n",
       "dtype: int64"
      ]
     },
     "execution_count": 28,
     "metadata": {},
     "output_type": "execute_result"
    }
   ],
   "source": [
    "df_new.isnull().sum()"
   ]
  },
  {
   "cell_type": "markdown",
   "metadata": {},
   "source": [
    "#### Outlier detection"
   ]
  },
  {
   "cell_type": "code",
   "execution_count": 29,
   "metadata": {},
   "outputs": [
    {
     "name": "stderr",
     "output_type": "stream",
     "text": [
      "<ipython-input-29-0040f5b4a231>:2: FutureWarning: Support for multi-dimensional indexing (e.g. `obj[:, None]`) is deprecated and will be removed in a future version.  Convert to a numpy array before indexing instead.\n",
      "  saleprice_scaled = StandardScaler().fit_transform(df_new['price_eur'][:,np.newaxis]);\n"
     ]
    },
    {
     "name": "stdout",
     "output_type": "stream",
     "text": [
      "outer range (low) of the distribution:\n",
      "[[-0.00066489]\n",
      " [-0.00066489]\n",
      " [-0.00066489]\n",
      " [-0.00066489]\n",
      " [-0.00066489]\n",
      " [-0.00066489]\n",
      " [-0.00066489]\n",
      " [-0.00066489]\n",
      " [-0.00066489]\n",
      " [-0.00066489]]\n",
      "\n",
      "outer range (high) of the distribution:\n",
      "[[1.95009588e-01]\n",
      " [4.07732442e-01]\n",
      " [4.19118851e-01]\n",
      " [5.57542014e-01]\n",
      " [5.74083650e-01]\n",
      " [8.50783642e+00]\n",
      " [8.57593145e+00]\n",
      " [8.57593145e+00]\n",
      " [8.57593145e+00]\n",
      " [1.55535457e+03]]\n"
     ]
    }
   ],
   "source": [
    "#standardizing data\n",
    "saleprice_scaled = StandardScaler().fit_transform(df_new['price_eur'][:,np.newaxis]);\n",
    "low_range = saleprice_scaled[saleprice_scaled[:,0].argsort()][:10]\n",
    "high_range= saleprice_scaled[saleprice_scaled[:,0].argsort()][-10:]\n",
    "print('outer range (low) of the distribution:')\n",
    "print(low_range)\n",
    "print('\\nouter range (high) of the distribution:')\n",
    "print(high_range)"
   ]
  },
  {
   "cell_type": "markdown",
   "metadata": {},
   "source": [
    "Amost all of the values are close to zero but there is one value 1.55535457e+03 which seems to deviate from the other values. So, it has the behaviour of an outlier."
   ]
  },
  {
   "cell_type": "markdown",
   "metadata": {},
   "source": [
    "#### For outlier detection using bivariate analysis"
   ]
  },
  {
   "cell_type": "code",
   "execution_count": 30,
   "metadata": {},
   "outputs": [
    {
     "data": {
      "text/plain": [
       "2706149053064.4"
      ]
     },
     "execution_count": 30,
     "metadata": {},
     "output_type": "execute_result"
    }
   ],
   "source": [
    "maximum_price = df_new['price_eur'].max()\n",
    "maximum_price"
   ]
  },
  {
   "cell_type": "code",
   "execution_count": 32,
   "metadata": {},
   "outputs": [],
   "source": [
    "df_2 = df_new[df_new['price_eur'] != maximum_price]"
   ]
  },
  {
   "cell_type": "code",
   "execution_count": 34,
   "metadata": {},
   "outputs": [
    {
     "data": {
      "image/png": "[encoded data removed]",
      "text/plain": [
       "<Figure size 432x288 with 1 Axes>"
      ]
     },
     "metadata": {
      "needs_background": "light"
     },
     "output_type": "display_data"
    }
   ],
   "source": [
    "data = pd.concat([df_2['price_eur'], df_2['mileage']], axis=1)\n",
    "data.plot.scatter(x='mileage', y='price_eur');"
   ]
  },
  {
   "cell_type": "markdown",
   "metadata": {},
   "source": [
    "#### As price contains few large values, so its column is transformed by taking log."
   ]
  },
  {
   "cell_type": "code",
   "execution_count": 5,
   "metadata": {},
   "outputs": [
    {
     "name": "stderr",
     "output_type": "stream",
     "text": [
      "/home/nishesh/anaconda3/envs/work/lib/python3.8/site-packages/seaborn/distributions.py:2551: FutureWarning: `distplot` is a deprecated function and will be removed in a future version. Please adapt your code to use either `displot` (a figure-level function with similar flexibility) or `histplot` (an axes-level function for histograms).\n",
      "  warnings.warn(msg, FutureWarning)\n"
     ]
    },
    {
     "data": {
      "text/plain": [
       "<AxesSubplot:xlabel='price_eur', ylabel='Density'>"
      ]
     },
     "execution_count": 5,
     "metadata": {},
     "output_type": "execute_result"
    },
    {
     "data": {
      "image/png": "[encoded data removed]",
      "text/plain": [
       "<Figure size 432x288 with 1 Axes>"
      ]
     },
     "metadata": {
      "needs_background": "light"
     },
     "output_type": "display_data"
    }
   ],
   "source": [
    "sns.distplot(np.log10(df_new['price_eur']))"
   ]
  },
  {
   "cell_type": "code",
   "execution_count": 40,
   "metadata": {},
   "outputs": [],
   "source": [
    "df_new['Price_with_log'] = np.log10(df_new['price_eur'])"
   ]
  },
  {
   "cell_type": "code",
   "execution_count": 42,
   "metadata": {},
   "outputs": [
    {
     "data": {
      "image/png": "[encoded data removed]",
      "text/plain": [
       "<Figure size 432x288 with 1 Axes>"
      ]
     },
     "metadata": {
      "needs_background": "light"
     },
     "output_type": "display_data"
    }
   ],
   "source": [
    "data = pd.concat([df_new['Price_with_log'], df_new['mileage']], axis=1)\n",
    "data.plot.scatter(x='mileage', y='Price_with_log');"
   ]
  },
  {
   "cell_type": "code",
   "execution_count": 44,
   "metadata": {},
   "outputs": [
    {
     "data": {
      "image/png": "[encoded data removed]",
      "text/plain": [
       "<Figure size 432x288 with 1 Axes>"
      ]
     },
     "metadata": {
      "needs_background": "light"
     },
     "output_type": "display_data"
    }
   ],
   "source": [
    "data = pd.concat([df_new['Price_with_log'], df_new['engine_displacement']], axis=1)\n",
    "data.plot.scatter(x='engine_displacement', y='Price_with_log');"
   ]
  },
  {
   "cell_type": "code",
   "execution_count": 45,
   "metadata": {},
   "outputs": [
    {
     "data": {
      "image/png": "[encoded data removed]",
      "text/plain": [
       "<Figure size 432x288 with 1 Axes>"
      ]
     },
     "metadata": {
      "needs_background": "light"
     },
     "output_type": "display_data"
    }
   ],
   "source": [
    "data = pd.concat([df_new['Price_with_log'], df_new['engine_power']], axis=1)\n",
    "data.plot.scatter(x='engine_power', y='Price_with_log');"
   ]
  },
  {
   "cell_type": "markdown",
   "metadata": {},
   "source": [
    "#### After log transformation, the outlier seems to be less. In the last graph, some data points with engine_power > 1250 seems to be an outlier so, they are removed."
   ]
  },
  {
   "cell_type": "code",
   "execution_count": 47,
   "metadata": {},
   "outputs": [],
   "source": [
    "df_new = df_new[(df_new['engine_power'] < 1250)]"
   ]
  },
  {
   "cell_type": "code",
   "execution_count": 48,
   "metadata": {},
   "outputs": [
    {
     "data": {
      "image/png": "[encoded data removed]",
      "text/plain": [
       "<Figure size 432x288 with 1 Axes>"
      ]
     },
     "metadata": {
      "needs_background": "light"
     },
     "output_type": "display_data"
    }
   ],
   "source": [
    "data = pd.concat([df_new['Price_with_log'], df_new['engine_power']], axis=1)\n",
    "data.plot.scatter(x='engine_power', y='Price_with_log');"
   ]
  },
  {
   "cell_type": "code",
   "execution_count": null,
   "metadata": {},
   "outputs": [],
   "source": []
  }
 ],
 "metadata": {
  "kernelspec": {
   "display_name": "Python 3",
   "language": "python",
   "name": "python3"
  },
  "language_info": {
   "codemirror_mode": {
    "name": "ipython",
    "version": 3
   },
   "file_extension": ".py",
   "mimetype": "text/x-python",
   "name": "python",
   "nbconvert_exporter": "python",
   "pygments_lexer": "ipython3",
   "version": "3.8.5"
  }
 },
 "nbformat": 4,
 "nbformat_minor": 4
}
